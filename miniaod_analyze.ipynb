{
 "cells": [
  {
   "cell_type": "code",
   "execution_count": 1,
   "metadata": {},
   "outputs": [
    {
     "name": "stderr",
     "output_type": "stream",
     "text": [
      "/tmp/ipykernel_270548/1256517549.py:1: DeprecationWarning: Importing display from IPython.core.display is deprecated since IPython 7.14, please import from IPython display\n",
      "  from IPython.core.display import display, HTML\n"
     ]
    },
    {
     "data": {
      "text/html": [
       "<style>.container { width:98% !important; }</style>"
      ],
      "text/plain": [
       "<IPython.core.display.HTML object>"
      ]
     },
     "metadata": {},
     "output_type": "display_data"
    }
   ],
   "source": [
    "from IPython.core.display import display, HTML\n",
    "display(HTML(\"<style>.container { width:98% !important; }</style>\"))"
   ]
  },
  {
   "cell_type": "code",
   "execution_count": 2,
   "metadata": {},
   "outputs": [
    {
     "name": "stdout",
     "output_type": "stream",
     "text": [
      "Welcome to JupyROOT 6.26/07\n"
     ]
    }
   ],
   "source": [
    "#!/usr/bin/env python\n",
    "\n",
    "from array import array\n",
    "import re\n",
    "import argparse\n",
    "import sys\n",
    "import math\n",
    "from DataFormats.FWLite import Events, Handle\n",
    "import ROOT\n",
    "from ROOT import TCanvas, TFile, TProfile, TNtuple, TH1F, TH2F, TRatioPlot, TLegend\n",
    "import json\n",
    "import boost_histogram as bh\n",
    "import matplotlib.pyplot as plt"
   ]
  },
  {
   "cell_type": "code",
   "execution_count": 3,
   "metadata": {},
   "outputs": [],
   "source": [
    "ROOT.gSystem.Load(\"libFWCoreFWLite.so\");\n",
    "ROOT.gSystem.Load(\"libDataFormatsFWLite.so\");\n",
    "ROOT.FWLiteEnabler.enable()"
   ]
  },
  {
   "cell_type": "code",
   "execution_count": 4,
   "metadata": {},
   "outputs": [],
   "source": [
    "#ele_handle, ele_label = Handle(\"vector<reco::GsfElectron>\"), \"gedGsfElectrons\"\n",
    "ele_handle, ele_label = Handle(\"vector<pat::Electron>\"), \"slimmedElectrons\"\n",
    "pho_handle, pho_label = Handle(\"vector<pat::Photon>\"), \"slimmedPhotons\""
   ]
  },
  {
   "cell_type": "code",
   "execution_count": 5,
   "metadata": {},
   "outputs": [],
   "source": [
    "f22 = \"EGM_2022D.root\" \n",
    "f23 = \"EGM_2023B.root\" "
   ]
  },
  {
   "cell_type": "code",
   "execution_count": 92,
   "metadata": {},
   "outputs": [],
   "source": [
    "def processfilePHO(filename):\n",
    "    events = Events(filename)\n",
    "    \n",
    "    phovars = {\n",
    "        \"E\":[],\n",
    "        \"SCE\":[],\n",
    "        \"Et\": [],\n",
    "        #\"SCEt\":[],\n",
    "        \"SCeta\":[],\n",
    "        \"SCphi\":[],\n",
    "        \"eta\":[],\n",
    "        \"phi\":[],\n",
    "        \"r9\":[],\n",
    "        \"full5x5_r9\":[],\n",
    "        \"full5x5_sigmaIetaIeta\": [],\n",
    "        \"full5x5_sigmaIphiIphi\": [],\n",
    "        \"hadTowOverEm\": [],\n",
    "        \"hcalOverEcal\": [],\n",
    "        \"chargedHadronIso\": [],\n",
    "        \"photonIso\": [],\n",
    "        \"neutralHadronIso\": []\n",
    "    }\n",
    "    \n",
    "    \n",
    "    \n",
    "    for event_nr,event in enumerate(events):\n",
    "        #print(\"event_nr,event\",event_nr)\n",
    "        event.getByLabel(pho_label,pho_handle)\n",
    "        #event.getByLabel(ele_label,ele_handle)\n",
    "        phos = pho_handle.product()\n",
    "        #eles = ele_handle.product()\n",
    "        #print(phos.size())\n",
    "        #print(eles.size())\n",
    "        for pho in phos:\n",
    "            phovars[\"E\"].append(pho.energy())\n",
    "            phovars[\"SCE\"].append(pho.superCluster().energy())\n",
    "            phovars[\"Et\"].append(pho.et())\n",
    "            #phovars[\"SCEt\"].append(pho.superCluster().energy()())\n",
    "            phovars[\"eta\"].append(pho.eta())\n",
    "            phovars[\"SCeta\"].append(pho.superCluster().eta())\n",
    "            phovars[\"phi\"].append(pho.phi())\n",
    "            phovars[\"SCphi\"].append(pho.superCluster().phi())\n",
    "            phovars[\"full5x5_r9\"].append(pho.full5x5_r9())\n",
    "            phovars[\"r9\"].append(pho.r9())\n",
    "            phovars[\"full5x5_sigmaIetaIeta\"].append(pho.full5x5_sigmaIetaIeta())\n",
    "            phovars[\"full5x5_sigmaIphiIphi\"].append(pho.full5x5_showerShapeVariables().sigmaIphiIphi)\n",
    "            phovars[\"hadTowOverEm\"].append(pho.hadTowOverEm())\n",
    "            phovars[\"hcalOverEcal\"].append(pho.hcalOverEcal())\n",
    "            phovars[\"chargedHadronIso\"].append(pho.chargedHadronIso())\n",
    "            phovars[\"photonIso\"].append(pho.photonIso())\n",
    "            phovars[\"neutralHadronIso\"].append(pho.neutralHadronIso())\n",
    "            \n",
    "    return phovars"
   ]
  },
  {
   "cell_type": "code",
   "execution_count": 93,
   "metadata": {},
   "outputs": [],
   "source": [
    "e23 = processfilePHO(f23)\n",
    "e22 = processfilePHO(f22)"
   ]
  },
  {
   "cell_type": "code",
   "execution_count": 101,
   "metadata": {},
   "outputs": [
    {
     "data": {
      "text/plain": [
       "'void ratioplot1() {\\n   gStyle->SetOptStat(0);\\n   auto c1 = new TCanvas(\"c1\", \"A ratio example\");\\n   auto h1 = new TH1D(\"h1\", \"h1\", 50, 0, 10);\\n   auto h2 = new TH1D(\"h2\", \"h2\", 50, 0, 10);\\n   auto f1 = new TF1(\"f1\", \"exp(- x/[0] )\");\\n   f1->SetParameter(0, 3);\\n   h1->FillRandom(\"f1\", 1900);\\n   h2->FillRandom(\"f1\", 2000);\\n   h1->Sumw2();\\n   h2->Scale(1.9 / 2.);\\n   h1->GetXaxis()->SetTitle(\"x\");\\n   h1->GetYaxis()->SetTitle(\"y\");\\n   auto rp = new TRatioPlot(h1, h2);\\n   c1->SetTicks(0, 1);\\n   rp->Draw();\\n   c1->Update();\\n}\\n'"
      ]
     },
     "execution_count": 101,
     "metadata": {},
     "output_type": "execute_result"
    }
   ],
   "source": [
    "'''void ratioplot1() {\n",
    "   gStyle->SetOptStat(0);\n",
    "   auto c1 = new TCanvas(\"c1\", \"A ratio example\");\n",
    "   auto h1 = new TH1D(\"h1\", \"h1\", 50, 0, 10);\n",
    "   auto h2 = new TH1D(\"h2\", \"h2\", 50, 0, 10);\n",
    "   auto f1 = new TF1(\"f1\", \"exp(- x/[0] )\");\n",
    "   f1->SetParameter(0, 3);\n",
    "   h1->FillRandom(\"f1\", 1900);\n",
    "   h2->FillRandom(\"f1\", 2000);\n",
    "   h1->Sumw2();\n",
    "   h2->Scale(1.9 / 2.);\n",
    "   h1->GetXaxis()->SetTitle(\"x\");\n",
    "   h1->GetYaxis()->SetTitle(\"y\");\n",
    "   auto rp = new TRatioPlot(h1, h2);\n",
    "   c1->SetTicks(0, 1);\n",
    "   rp->Draw();\n",
    "   c1->Update();\n",
    "}\n",
    "'''"
   ]
  },
  {
   "cell_type": "code",
   "execution_count": 123,
   "metadata": {},
   "outputs": [],
   "source": [
    "def plotvar(otype, listv, d1, d2, nbins, minval=-1, maxval=-1):\n",
    "    #from ROOT import gROOT \n",
    "    #c = TCanvas(\"myCanvasName\",\"The Canvas Title\",800,600)\n",
    "    h1 = d1[listv]\n",
    "    h2 = d2[listv]\n",
    "    h1 = [i  for i in h1 if (i > -5000.)]\n",
    "    h2 = [i  for i in h2 if (i > -5000.)]\n",
    "    minv,maxv = min(min(h1),min(h2)), max(max(h1),max(h2))\n",
    "    if minval>0:\n",
    "        minv = minval\n",
    "    if maxval>0:\n",
    "        maxv = maxval\n",
    "    \n",
    "    hist1 = ROOT.TH1F(\"2022D\"+str(listv), str(otype)+\" \"+str(listv), nbins,minv,maxv)\n",
    "    hist2 = ROOT.TH1F(\"2023B\"+str(listv), str(otype)+\" \"+str(listv), nbins,minv,maxv)\n",
    "    for i in h1:\n",
    "        \n",
    "        hist1.Fill(i)\n",
    "    for j in h2:\n",
    "        \n",
    "        hist2.Fill(j)\n",
    "    #hist.Draw()\n",
    "    #c.Draw()\n",
    "    hist1.Sumw2();\n",
    "    hist2.Sumw2();\n",
    "    hist1.Scale(1. / hist1.Integral());\n",
    "    hist2.Scale(1. / hist2.Integral());\n",
    "    rp = TRatioPlot(hist1, hist2)\n",
    "     \n",
    "    return rp, hist1, hist2"
   ]
  },
  {
   "cell_type": "code",
   "execution_count": 91,
   "metadata": {},
   "outputs": [
    {
     "name": "stdout",
     "output_type": "stream",
     "text": [
      "E\n",
      "SCE\n",
      "Et\n",
      "SCeta\n",
      "SCphi\n",
      "eta\n",
      "phi\n",
      "r9\n",
      "full5x5_r9\n",
      "full5x5_sigmaIetaIeta\n",
      "full5x5_sigmaIphiIphi\n",
      "hadTowOverEm\n",
      "hcalOverEcal\n",
      "chargedHadronIso\n",
      "photonIso\n",
      "neutralHadronIso\n"
     ]
    },
    {
     "data": {
      "text/plain": [
       "'from ROOT import gROOT \\ngROOT.GetListOfCanvases().Draw()'"
      ]
     },
     "execution_count": 91,
     "metadata": {},
     "output_type": "execute_result"
    },
    {
     "name": "stderr",
     "output_type": "stream",
     "text": [
      "Warning in <TROOT::Append>: Replacing existing TH1: 2022E (Potential memory leak).\n",
      "Warning in <TROOT::Append>: Replacing existing TH1: 2023E (Potential memory leak).\n",
      "Warning in <TGraphAsymmErrors::Divide>: Number of graph points is different than histogram bins - 42 points have been skipped\n",
      "Info in <TCanvas::Print>: png file pho_Elogy.png has been created\n",
      "Warning in <TROOT::Append>: Replacing existing TH1: 2022SCE (Potential memory leak).\n",
      "Warning in <TROOT::Append>: Replacing existing TH1: 2023SCE (Potential memory leak).\n",
      "Warning in <TGraphAsymmErrors::Divide>: Number of graph points is different than histogram bins - 26 points have been skipped\n",
      "Info in <TCanvas::Print>: png file pho_SCElogy.png has been created\n",
      "Warning in <TROOT::Append>: Replacing existing TH1: 2022Et (Potential memory leak).\n",
      "Warning in <TROOT::Append>: Replacing existing TH1: 2023Et (Potential memory leak).\n",
      "Warning in <TGraphAsymmErrors::Divide>: Number of graph points is different than histogram bins - 45 points have been skipped\n",
      "Info in <TCanvas::Print>: png file pho_Etlogy.png has been created\n",
      "Warning in <TROOT::Append>: Replacing existing TH1: 2022SCeta (Potential memory leak).\n",
      "Warning in <TROOT::Append>: Replacing existing TH1: 2023SCeta (Potential memory leak).\n",
      "Info in <TCanvas::Print>: png file pho_SCetalogy.png has been created\n",
      "Warning in <TROOT::Append>: Replacing existing TH1: 2022SCphi (Potential memory leak).\n",
      "Warning in <TROOT::Append>: Replacing existing TH1: 2023SCphi (Potential memory leak).\n",
      "Info in <TCanvas::Print>: png file pho_SCphilogy.png has been created\n",
      "Warning in <TROOT::Append>: Replacing existing TH1: 2022eta (Potential memory leak).\n",
      "Warning in <TROOT::Append>: Replacing existing TH1: 2023eta (Potential memory leak).\n",
      "Info in <TCanvas::Print>: png file pho_etalogy.png has been created\n",
      "Warning in <TROOT::Append>: Replacing existing TH1: 2022phi (Potential memory leak).\n",
      "Warning in <TROOT::Append>: Replacing existing TH1: 2023phi (Potential memory leak).\n",
      "Info in <TCanvas::Print>: png file pho_philogy.png has been created\n",
      "Warning in <TROOT::Append>: Replacing existing TH1: 2022r9 (Potential memory leak).\n",
      "Warning in <TROOT::Append>: Replacing existing TH1: 2023r9 (Potential memory leak).\n",
      "Warning in <TGraphAsymmErrors::Divide>: Number of graph points is different than histogram bins - 54 points have been skipped\n",
      "Info in <TCanvas::Print>: png file pho_r9logy.png has been created\n",
      "Warning in <TROOT::Append>: Replacing existing TH1: 2022full5x5_r9 (Potential memory leak).\n",
      "Warning in <TROOT::Append>: Replacing existing TH1: 2023full5x5_r9 (Potential memory leak).\n",
      "Info in <TCanvas::Print>: png file pho_full5x5_r9logy.png has been created\n",
      "Warning in <TROOT::Append>: Replacing existing TH1: 2022full5x5_sigmaIetaIeta (Potential memory leak).\n",
      "Warning in <TROOT::Append>: Replacing existing TH1: 2023full5x5_sigmaIetaIeta (Potential memory leak).\n",
      "Info in <TCanvas::Print>: png file pho_full5x5_sigmaIetaIetalogy.png has been created\n",
      "Warning in <TROOT::Append>: Replacing existing TH1: 2022full5x5_sigmaIphiIphi (Potential memory leak).\n",
      "Warning in <TROOT::Append>: Replacing existing TH1: 2023full5x5_sigmaIphiIphi (Potential memory leak).\n",
      "Info in <TCanvas::Print>: png file pho_full5x5_sigmaIphiIphilogy.png has been created\n",
      "Warning in <TROOT::Append>: Replacing existing TH1: 2022hadTowOverEm (Potential memory leak).\n",
      "Warning in <TROOT::Append>: Replacing existing TH1: 2023hadTowOverEm (Potential memory leak).\n",
      "Warning in <TGraphAsymmErrors::Divide>: Number of graph points is different than histogram bins - 50 points have been skipped\n",
      "Info in <TCanvas::Print>: png file pho_hadTowOverEmlogy.png has been created\n",
      "Warning in <TROOT::Append>: Replacing existing TH1: 2022hcalOverEcal (Potential memory leak).\n",
      "Warning in <TROOT::Append>: Replacing existing TH1: 2023hcalOverEcal (Potential memory leak).\n",
      "Info in <TCanvas::Print>: png file pho_hcalOverEcallogy.png has been created\n",
      "Warning in <TROOT::Append>: Replacing existing TH1: 2022chargedHadronIso (Potential memory leak).\n",
      "Warning in <TROOT::Append>: Replacing existing TH1: 2023chargedHadronIso (Potential memory leak).\n",
      "Info in <TCanvas::Print>: png file pho_chargedHadronIsology.png has been created\n",
      "Warning in <TROOT::Append>: Replacing existing TH1: 2022photonIso (Potential memory leak).\n",
      "Warning in <TROOT::Append>: Replacing existing TH1: 2023photonIso (Potential memory leak).\n",
      "Info in <TCanvas::Print>: png file pho_photonIsology.png has been created\n",
      "Warning in <TROOT::Append>: Replacing existing TH1: 2022neutralHadronIso (Potential memory leak).\n",
      "Warning in <TROOT::Append>: Replacing existing TH1: 2023neutralHadronIso (Potential memory leak).\n",
      "Warning in <TGraphAsymmErrors::Divide>: Number of graph points is different than histogram bins - 16 points have been skipped\n",
      "Info in <TCanvas::Print>: png file pho_neutralHadronIsology.png has been created\n"
     ]
    }
   ],
   "source": [
    "from ROOT import gPad\n",
    "\n",
    "for i in e22.keys():\n",
    "    uselog = True\n",
    "    c = TCanvas(str(i),str(i),800,600)\n",
    "    print(i)\n",
    "    if \"sigma\" in i:\n",
    "        rat, h1, h2 = plotvar(\"pho\",i,e22,e23,100,0,0.05)\n",
    "    elif (\"had\" in i) or ( \"hcal\" in i):\n",
    "        rat, h1, h2 = plotvar(\"pho\",i,e22,e23,100,0,0.3)\n",
    "    elif (\"Iso\" in i):\n",
    "        rat, h1, h2 = plotvar(\"pho\",i,e22,e23,100,0,40)\n",
    "    elif (\"r9\" in i):\n",
    "        rat, h1, h2 = plotvar(\"pho\",i,e22,e23,100,0,2)\n",
    "    else:\n",
    "        rat, h1, h2 = plotvar(\"pho\",i,e22,e23,100)\n",
    "    h1.SetStats(0)\n",
    "    h2.SetStats(0)\n",
    "    \n",
    "    h1.SetLineColor(ROOT.kRed )\n",
    "    h2.SetLineColor(ROOT.kBlue )\n",
    "    h1.SetLineWidth(2)\n",
    "    h2.SetLineWidth(2)\n",
    "    if uselog:\n",
    "        c.SetLogy()\n",
    "    rat.SetH1DrawOpt(\"histE\")\n",
    "    rat.Draw()\n",
    "    legend = TLegend(0.7,0.9,0.9,0.99)\n",
    "    legend.AddEntry(h1,\"2022D\",\"le\")\n",
    "    legend.AddEntry(h2,\"2023B\",\"le\")\n",
    "    legend.Draw()\n",
    "    \n",
    "    if uselog:\n",
    "        c.Print(\"pho/pho_\"+str(i)+str(\"logy\")+\".png\")\n",
    "    else:\n",
    "        c.Print(\"pho/pho_\"+str(i)+\".png\")\n",
    "    del rat,h1,h2\n",
    "    \n",
    "    \n",
    "'''from ROOT import gROOT \n",
    "gROOT.GetListOfCanvases().Draw()'''"
   ]
  },
  {
   "cell_type": "code",
   "execution_count": 106,
   "metadata": {},
   "outputs": [],
   "source": [
    "def processfileELE(filename):\n",
    "    events = Events(filename)\n",
    "    \n",
    "    elevars = {\n",
    "        \n",
    "        \"SCeta\":[],\n",
    "        \"SCphi\":[],\n",
    "        \"eta\":[],\n",
    "        \"phi\":[],\n",
    "        \"gsfTrack().eta\": [],\n",
    "        \"trackFbrem\": [],\n",
    "        #\"pixelMatchDPhi1\": [],\n",
    "        #\"pixelMatchDPhi2\": [],\n",
    "        #\"pixelMatchDRz1\": [],\n",
    "        #\"pixelMatchDRz2\": [],\n",
    "        \"pt\": [],\n",
    "        \"deltaEtaSeedClusterTrackAtVtx\": [],\n",
    "        \"deltaPhiSuperClusterTrackAtVtx\": [],\n",
    "        \"convVtxFitProb\": [],\n",
    "        \"convDist\": [],\n",
    "        \"convDcot\": [],\n",
    "        \"convRadius\": [],\n",
    "        \"convFlags\": [],\n",
    "        \n",
    "    }\n",
    "    \n",
    "    \n",
    "    \n",
    "    for event_nr,event in enumerate(events):\n",
    "        #print(\"event_nr,event\",event_nr)\n",
    "        #event.getByLabel(pho_label,pho_handle)\n",
    "        event.getByLabel(ele_label,ele_handle)\n",
    "        #phos = pho_handle.product()\n",
    "        eles = ele_handle.product()\n",
    "        #print(phos.size())\n",
    "        #print(eles.size())\n",
    "        for ele in eles:\n",
    "            \n",
    "            \n",
    "            elevars[\"SCeta\"].append(ele.superCluster().eta())\n",
    "            elevars[\"SCphi\"].append(ele.superCluster().phi())\n",
    "            elevars[\"eta\"].append(ele.eta())\n",
    "            elevars[\"phi\"].append(ele.phi())\n",
    "            elevars[\"gsfTrack().eta\"].append(ele.gsfTrack().eta())\n",
    "            elevars[\"trackFbrem\"].append(ele.trackFbrem())\n",
    "            #elevars[\"pixelMatchDPhi1\"].append(ele.pixelMatchDPhi1())\n",
    "            #elevars[\"pixelMatchDPhi2\"].append(ele.pixelMatchDPhi2())\n",
    "            #elevars[\"pixelMatchDRz1\"].append(ele.pixelMatchDRz1())\n",
    "            #elevars[\"pixelMatchDRz2\"].append(ele.pixelMatchDRz2())\n",
    "            elevars[\"pt\"].append(ele.pt())\n",
    "            elevars[\"deltaEtaSeedClusterTrackAtVtx\"].append(ele.deltaEtaSeedClusterTrackAtVtx())\n",
    "            elevars[\"deltaPhiSuperClusterTrackAtVtx\"].append(ele.deltaPhiSuperClusterTrackAtVtx())\n",
    "            elevars[\"convVtxFitProb\"].append(ele.convVtxFitProb())\n",
    "            elevars[\"convDist\"].append(ele.convDist())\n",
    "            elevars[\"convDcot\"].append(ele.convDcot())\n",
    "            elevars[\"convRadius\"].append(ele.convRadius())\n",
    "            elevars[\"convFlags\"].append(ele.convFlags())\n",
    "            \n",
    "            \n",
    "    return elevars"
   ]
  },
  {
   "cell_type": "code",
   "execution_count": 107,
   "metadata": {},
   "outputs": [],
   "source": [
    "ele23 = processfileELE(f23)\n",
    "ele22 = processfileELE(f22)"
   ]
  },
  {
   "cell_type": "code",
   "execution_count": 125,
   "metadata": {},
   "outputs": [
    {
     "name": "stdout",
     "output_type": "stream",
     "text": [
      "SCeta\n",
      "SCphi\n",
      "eta\n",
      "phi\n",
      "gsfTrack().eta\n",
      "trackFbrem\n",
      "pt\n",
      "deltaEtaSeedClusterTrackAtVtx\n",
      "deltaPhiSuperClusterTrackAtVtx\n",
      "convVtxFitProb\n",
      "=========== convVtxFitProb\n",
      "convDist\n",
      "=========== convDist\n",
      "convDcot\n",
      "=========== convDcot\n",
      "convRadius\n",
      "=========== convRadius\n",
      "convFlags\n",
      "=========== convFlags\n"
     ]
    },
    {
     "data": {
      "text/plain": [
       "'from ROOT import gROOT \\ngROOT.GetListOfCanvases().Draw()'"
      ]
     },
     "execution_count": 125,
     "metadata": {},
     "output_type": "execute_result"
    },
    {
     "name": "stderr",
     "output_type": "stream",
     "text": [
      "Warning in <TROOT::Append>: Replacing existing TH1: 2022DSCeta (Potential memory leak).\n",
      "Warning in <TROOT::Append>: Replacing existing TH1: 2023BSCeta (Potential memory leak).\n",
      "Info in <TCanvas::Print>: png file ele/ele_SCeta.png has been created\n",
      "Warning in <TROOT::Append>: Replacing existing TH1: 2022DSCphi (Potential memory leak).\n",
      "Warning in <TROOT::Append>: Replacing existing TH1: 2023BSCphi (Potential memory leak).\n",
      "Info in <TCanvas::Print>: png file ele/ele_SCphi.png has been created\n",
      "Warning in <TROOT::Append>: Replacing existing TH1: 2022Deta (Potential memory leak).\n",
      "Warning in <TROOT::Append>: Replacing existing TH1: 2023Beta (Potential memory leak).\n",
      "Warning in <TGraphAsymmErrors::Divide>: Number of graph points is different than histogram bins - 5 points have been skipped\n",
      "Info in <TCanvas::Print>: png file ele/ele_eta.png has been created\n",
      "Warning in <TROOT::Append>: Replacing existing TH1: 2022Dphi (Potential memory leak).\n",
      "Warning in <TROOT::Append>: Replacing existing TH1: 2023Bphi (Potential memory leak).\n",
      "Info in <TCanvas::Print>: png file ele/ele_phi.png has been created\n",
      "Warning in <TROOT::Append>: Replacing existing TH1: 2022DgsfTrack().eta (Potential memory leak).\n",
      "Warning in <TROOT::Append>: Replacing existing TH1: 2023BgsfTrack().eta (Potential memory leak).\n",
      "Warning in <TGraphAsymmErrors::Divide>: Number of graph points is different than histogram bins - 5 points have been skipped\n",
      "Info in <TCanvas::Print>: png file ele/ele_gsfTrack().eta.png has been created\n",
      "Warning in <TROOT::Append>: Replacing existing TH1: 2022DtrackFbrem (Potential memory leak).\n",
      "Warning in <TROOT::Append>: Replacing existing TH1: 2023BtrackFbrem (Potential memory leak).\n",
      "Warning in <TGraphAsymmErrors::Divide>: Number of graph points is different than histogram bins - 66 points have been skipped\n",
      "Info in <TCanvas::Print>: png file ele/ele_trackFbrem.png has been created\n",
      "Warning in <TROOT::Append>: Replacing existing TH1: 2022Dpt (Potential memory leak).\n",
      "Warning in <TROOT::Append>: Replacing existing TH1: 2023Bpt (Potential memory leak).\n",
      "Warning in <TGraphAsymmErrors::Divide>: Number of graph points is different than histogram bins - 44 points have been skipped\n",
      "Info in <TCanvas::Print>: png file ele/ele_pt.png has been created\n",
      "Warning in <TROOT::Append>: Replacing existing TH1: 2022DdeltaEtaSeedClusterTrackAtVtx (Potential memory leak).\n",
      "Warning in <TROOT::Append>: Replacing existing TH1: 2023BdeltaEtaSeedClusterTrackAtVtx (Potential memory leak).\n",
      "Warning in <TGraphAsymmErrors::Divide>: Number of graph points is different than histogram bins - 60 points have been skipped\n",
      "Info in <TCanvas::Print>: png file ele/ele_deltaEtaSeedClusterTrackAtVtx.png has been created\n",
      "Warning in <TROOT::Append>: Replacing existing TH1: 2022DdeltaPhiSuperClusterTrackAtVtx (Potential memory leak).\n",
      "Warning in <TROOT::Append>: Replacing existing TH1: 2023BdeltaPhiSuperClusterTrackAtVtx (Potential memory leak).\n",
      "Warning in <TGraphAsymmErrors::Divide>: Number of graph points is different than histogram bins - 41 points have been skipped\n",
      "Info in <TCanvas::Print>: png file ele/ele_deltaPhiSuperClusterTrackAtVtx.png has been created\n",
      "Warning in <TROOT::Append>: Replacing existing TH1: 2022DconvVtxFitProb (Potential memory leak).\n",
      "Warning in <TROOT::Append>: Replacing existing TH1: 2023BconvVtxFitProb (Potential memory leak).\n",
      "Warning in <TGraphAsymmErrors::Divide>: Number of graph points is different than histogram bins - 49 points have been skipped\n",
      "Info in <TCanvas::Print>: png file ele/ele_convVtxFitProb.png has been created\n",
      "Warning in <TROOT::Append>: Replacing existing TH1: 2022DconvDist (Potential memory leak).\n",
      "Warning in <TROOT::Append>: Replacing existing TH1: 2023BconvDist (Potential memory leak).\n",
      "Warning in <TGraphAsymmErrors::Divide>: Number of graph points is different than histogram bins - 63 points have been skipped\n",
      "Info in <TCanvas::Print>: png file ele/ele_convDist.png has been created\n",
      "Warning in <TROOT::Append>: Replacing existing TH1: 2022DconvDcot (Potential memory leak).\n",
      "Warning in <TROOT::Append>: Replacing existing TH1: 2023BconvDcot (Potential memory leak).\n",
      "Warning in <TGraphAsymmErrors::Divide>: Number of graph points is different than histogram bins - 17 points have been skipped\n",
      "Info in <TCanvas::Print>: png file ele/ele_convDcot.png has been created\n",
      "Warning in <TROOT::Append>: Replacing existing TH1: 2022DconvRadius (Potential memory leak).\n",
      "Warning in <TROOT::Append>: Replacing existing TH1: 2023BconvRadius (Potential memory leak).\n",
      "Warning in <TGraphAsymmErrors::Divide>: Number of graph points is different than histogram bins - 60 points have been skipped\n",
      "Info in <TCanvas::Print>: png file ele/ele_convRadius.png has been created\n",
      "Warning in <TROOT::Append>: Replacing existing TH1: 2022DconvFlags (Potential memory leak).\n",
      "Warning in <TROOT::Append>: Replacing existing TH1: 2023BconvFlags (Potential memory leak).\n",
      "Warning in <TGraphAsymmErrors::Divide>: Number of graph points is different than histogram bins - 97 points have been skipped\n",
      "Info in <TCanvas::Print>: png file ele/ele_convFlags.png has been created\n"
     ]
    }
   ],
   "source": [
    "for i in ele22.keys():\n",
    "    uselog = False\n",
    "    c = TCanvas(str(i),str(i),800,600)\n",
    "    print(i)\n",
    "    if \"sigma\" in i:\n",
    "        rat, h1, h2 = plotvar(i,ele22,ele23,100,0,0.05)\n",
    "    elif (\"had\" in i) or ( \"hcal\" in i):\n",
    "        rat, h1, h2 = plotvar(\"ele\",i,ele22,ele23,100,0,0.3)\n",
    "    elif (\"Iso\" in i):\n",
    "        rat, h1, h2 = plotvar(\"ele\",i,ele22,ele23,100,0,40)\n",
    "    elif (\"r9\" in i):\n",
    "        rat, h1, h2 = plotvar(\"ele\",i,ele22,ele23,100,0,2)\n",
    "    elif (\"conv\" in i):\n",
    "        print(\"===========\",i)\n",
    "        rat, h1, h2 = plotvar(\"ele\",i,ele22,ele23,100)\n",
    "    else:\n",
    "        rat, h1, h2 = plotvar(\"ele\",i,ele22,ele23,100)\n",
    "    h1.SetStats(0)\n",
    "    h2.SetStats(0)\n",
    "    \n",
    "    h1.SetLineColor(ROOT.kRed )\n",
    "    h2.SetLineColor(ROOT.kBlue )\n",
    "    h1.SetLineWidth(2)\n",
    "    h2.SetLineWidth(2)\n",
    "    if uselog:\n",
    "        c.SetLogy()\n",
    "    rat.SetH1DrawOpt(\"histE\")\n",
    "    rat.Draw()\n",
    "    legend = TLegend(0.7,0.9,0.9,0.99)\n",
    "    legend.AddEntry(h1,\"2022D\",\"le\")\n",
    "    legend.AddEntry(h2,\"2023B\",\"le\")\n",
    "    legend.Draw()\n",
    "    \n",
    "    if uselog:\n",
    "        c.Print(\"ele/ele_\"+str(i)+str(\"logy\")+\".png\")\n",
    "    else:\n",
    "        c.Print(\"ele/ele_\"+str(i)+\".png\")\n",
    "    del rat,h1,h2\n",
    "    \n",
    "    \n",
    "'''from ROOT import gROOT \n",
    "gROOT.GetListOfCanvases().Draw()'''"
   ]
  },
  {
   "cell_type": "code",
   "execution_count": null,
   "metadata": {},
   "outputs": [],
   "source": []
  }
 ],
 "metadata": {
  "kernelspec": {
   "display_name": "Python 3",
   "language": "python",
   "name": "python3"
  },
  "language_info": {
   "codemirror_mode": {
    "name": "ipython",
    "version": 3
   },
   "file_extension": ".py",
   "mimetype": "text/x-python",
   "name": "python",
   "nbconvert_exporter": "python",
   "pygments_lexer": "ipython3",
   "version": "3.6.8"
  }
 },
 "nbformat": 4,
 "nbformat_minor": 2
}
